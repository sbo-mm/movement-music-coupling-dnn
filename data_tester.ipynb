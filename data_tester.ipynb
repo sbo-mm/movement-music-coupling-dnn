{
 "cells": [
  {
   "cell_type": "code",
   "execution_count": 1,
   "id": "8bbadbed",
   "metadata": {},
   "outputs": [],
   "source": [
    "import joblib\n",
    "import glob\n",
    "import os\n",
    "\n",
    "from data_utils.mg_preprocessor import transform_video2motiongram\n",
    "from data_utils.sg_preprocessor import sg_test_func\n",
    "\n",
    "import matplotlib.pyplot as plt\n",
    "\n",
    "TMP_DATA_PATH   = \"/home/sbol13/sbol_data/tmpdata\"\n",
    "VIDEO_DATA_PATH = \"/home/sbol13/sbol_data/aist_db_4_sec\""
   ]
  },
  {
   "cell_type": "code",
   "execution_count": 4,
   "id": "3c787597",
   "metadata": {},
   "outputs": [
    {
     "name": "stdout",
     "output_type": "stream",
     "text": [
      "skipping gWA_sBM_c01_d27_mWA2_ch03\n",
      "skipping gJB_sFM_c01_d08_mJB5_ch13\n",
      "skipping gJB_sBM_c01_d09_mJB2_ch08\n",
      "skipping gPO_sFM_c01_d11_mPO2_ch10\n",
      "skipping gPO_sBM_c01_d12_mPO5_ch08\n",
      "skipping gHO_sBM_c01_d21_mHO5_ch02\n",
      "skipping gHO_sFM_c01_d20_mHO4_ch12\n",
      "skipping gHO_sBM_c01_d19_mHO2_ch01\n",
      "skipping gJS_sGR_c01_d01_d02_d03_mJS2_ch05\n",
      "skipping gKR_sFM_c01_d28_mKR5_ch06\n",
      "skipping gLO_sBM_c01_d14_mLO0_ch05\n",
      "skipping gWA_sFM_c01_d25_mWA4_ch05\n",
      "skipping gKR_sBM_c01_d30_mKR5_ch05\n",
      "skipping gMH_sBM_c01_d22_mMH3_ch02\n",
      "skipping gPO_sBM_c01_d10_mPO0_ch01\n",
      "skipping gJS_sBM_c01_d01_mJS2_ch09\n",
      "skipping gLO_sBM_c01_d14_mLO5_ch05\n",
      "skipping gWA_sBM_c01_d25_mWA2_ch09\n",
      "skipping gPO_sBM_c01_d10_mPO1_ch04\n",
      "skipping gMH_sBM_c01_d24_mMH3_ch01\n",
      "skipping gJB_sBM_c01_d09_mJB4_ch07\n",
      "skipping gJS_sGR_c01_d01_d02_d03_mJS0_ch01\n",
      "skipping gKR_sBM_c01_d30_mKR4_ch09\n",
      "skipping gJB_sBM_c01_d09_mJB3_ch09\n",
      "skipping gJS_sBM_c01_d01_mJS0_ch04\n",
      "skipping gWA_sGR_c01_d25_d26_d27_mWA4_ch07\n",
      "skipping gMH_sBM_c01_d24_mMH5_ch02\n",
      "skipping gJS_sBM_c01_d01_mJS2_ch04\n",
      "skipping gJS_sBM_c01_d02_mJS0_ch07\n",
      "skipping gJB_sBM_c01_d08_mJB1_ch10\n",
      "skipping gBR_sBM_c01_d06_mBR4_ch02\n",
      "skipping gMH_sBM_c01_d22_mMH0_ch02\n",
      "skipping gLH_sBM_c01_d16_mLH1_ch05\n",
      "skipping gPO_sFM_c01_d10_mPO1_ch02\n",
      "skipping gLH_sFM_c01_d16_mLH4_ch05\n",
      "skipping gJS_sFM_c01_d02_mJS1_ch02\n",
      "skipping gJB_sBM_c01_d09_mJB5_ch06\n",
      "skipping gPO_sBM_c01_d11_mPO0_ch09\n",
      "skipping gLO_sBM_c01_d13_mLO2_ch06\n",
      "skipping gJB_sFM_c01_d07_mJB2_ch03\n",
      "skipping gWA_sBM_c01_d27_mWA4_ch04\n",
      "skipping gLO_sFM_c01_d14_mLO0_ch08\n",
      "skipping gJB_sBM_c01_d07_mJB0_ch10\n",
      "skipping gPO_sBM_c01_d12_mPO5_ch07\n",
      "skipping gJB_sBM_c01_d09_mJB3_ch02\n",
      "skipping gBR_sBM_c01_d04_mBR3_ch09\n",
      "skipping gMH_sBM_c01_d23_mMH1_ch05\n",
      "skipping gHO_sBM_c01_d20_mHO0_ch07\n",
      "skipping gMH_sFM_c01_d22_mMH5_ch06\n",
      "skipping gKR_sBM_c01_d30_mKR4_ch06\n",
      "skipping gHO_sBM_c01_d20_mHO5_ch09\n",
      "skipping gHO_sBM_c01_d19_mHO2_ch06\n",
      "[52] processing motiongram... gLO_sBM_c01_d14_mLO0_ch04\n",
      "[53] processing motiongram... gLH_sGR_c01_d16_d17_d18_mLH2_ch04\n",
      "dumping...\n"
     ]
    }
   ],
   "source": [
    "readkey = \"/motiongrams.pkl\"\n",
    "try:\n",
    "    save_dict = joblib.load(TMP_DATA_PATH + readkey)\n",
    "except Exception as e:\n",
    "    save_dict = {}\n",
    "    \n",
    "try:\n",
    "    fl, hl = 12, 2\n",
    "    for n, path in enumerate(glob.iglob(VIDEO_DATA_PATH + \"/*.mp4\")):\n",
    "        ix = path.rindex(\"/\") + 1\n",
    "        save_key, _ = os.path.splitext(path[ix:])\n",
    "\n",
    "        if save_key in save_dict.keys():\n",
    "            print(\"skipping {0}\".format(save_key))\n",
    "            continue\n",
    "\n",
    "        print(\"[{0}] processing motiongram... {1}\".format(n, save_key))\n",
    "        gx, gy = transform_video2motiongram(path, fl, hl)\n",
    "        save_dict[save_key] = (gx, gy)\n",
    "except KeyboardInterrupt as e:\n",
    "    print(\"dumping...\")\n",
    "    joblib.dump(save_dict, TMP_DATA_PATH + readkey)"
   ]
  },
  {
   "cell_type": "code",
   "execution_count": null,
   "id": "f64d5149",
   "metadata": {},
   "outputs": [],
   "source": [
    "vidfiles = os.listdir(VIDEO_DATA_PATH)\n",
    "vidfile = VIDEO_DATA_PATH + \"/\" + vidfiles[40]\n",
    "print(len(vidfiles))\n",
    "\n",
    "fl, hl = 12, 2\n",
    "gx, gy = transform_video2motiongram(vidfile, fl, hl)\n",
    "print(gx.shape, gy.shape)"
   ]
  },
  {
   "cell_type": "code",
   "execution_count": null,
   "id": "e123b23e",
   "metadata": {},
   "outputs": [],
   "source": [
    "fig, axs = plt.subplots(1, 1, figsize=(10, 10))\n",
    "axs.set_xticks([])\n",
    "axs.set_yticks([])\n",
    "axs.set_xlabel(\"(a) Input Motiongram\")\n",
    "axs.imshow(gx, aspect=\"auto\", cmap=\"binary\", interpolation=\"bicubic\")\n",
    "plt.show()"
   ]
  },
  {
   "cell_type": "code",
   "execution_count": null,
   "id": "7cf74071",
   "metadata": {},
   "outputs": [],
   "source": []
  }
 ],
 "metadata": {
  "kernelspec": {
   "display_name": "Python 3 (ipykernel)",
   "language": "python",
   "name": "python3"
  },
  "language_info": {
   "codemirror_mode": {
    "name": "ipython",
    "version": 3
   },
   "file_extension": ".py",
   "mimetype": "text/x-python",
   "name": "python",
   "nbconvert_exporter": "python",
   "pygments_lexer": "ipython3",
   "version": "3.7.11"
  }
 },
 "nbformat": 4,
 "nbformat_minor": 5
}
