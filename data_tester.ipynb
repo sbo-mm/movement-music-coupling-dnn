{
 "cells": [
  {
   "cell_type": "code",
   "execution_count": null,
   "id": "8bbadbed",
   "metadata": {},
   "outputs": [],
   "source": [
    "import os\n",
    "os.environ[\"TF_CPP_MIN_LOG_LEVEL\"] = \"3\"\n",
    "\n",
    "import joblib\n",
    "import glob\n",
    "\n",
    "from data_utils.mg_sg_generator import get_dataset_ids, get_dataset_for, prepare_dataset_for_training\n",
    "from data_utils.mg_sg_generator import MotiongramSpectrogramGenerator\n",
    "\n",
    "import matplotlib.pyplot as plt\n",
    "\n",
    "import tensorflow as tf\n",
    "from tensorflow.keras.models import Model\n",
    "from tensorflow.keras.layers import Input, Dense"
   ]
  },
  {
   "cell_type": "code",
   "execution_count": null,
   "id": "81defc92",
   "metadata": {},
   "outputs": [],
   "source": [
    "fout = get_dataset_for(nfft=256)\n",
    "for k, v in fout.items():\n",
    "    print(f'[{k}] Wrote {v[0]} files to {v[1]}')"
   ]
  },
  {
   "cell_type": "code",
   "execution_count": null,
   "id": "c42e01d9",
   "metadata": {},
   "outputs": [],
   "source": [
    "def parse_tfr_example(example):\n",
    "    data = {\n",
    "        'labels'      : tf.io.FixedLenFeature([], tf.string),\n",
    "        'memlen'      : tf.io.FixedLenFeature([],  tf.int64),\n",
    "        'motiongram'  : tf.io.FixedLenFeature([], tf.string),\n",
    "        'spectrogram' : tf.io.FixedLenFeature([], tf.string)\n",
    "    }\n",
    "    content = tf.io.parse_single_example(example, data)\n",
    "    mg, sg = content['motiongram'], content['spectrogram']\n",
    "    shapelen = content['memlen']\n",
    "    mg_feature = tf.reshape(tf.io.parse_tensor(mg, out_type=tf.float32), shape=[shapelen])\n",
    "    sg_feature = tf.reshape(tf.io.parse_tensor(sg, out_type=tf.float32), shape=[shapelen])\n",
    "    return mg_feature, sg_feature\n",
    "\n",
    "def get_dataset_small(filename):\n",
    "    # create the dataset\n",
    "    dataset = tf.data.TFRecordDataset(filename)\n",
    "\n",
    "    # pass every single feature through our mapping function\n",
    "    dataset = dataset.map(\n",
    "      parse_tfr_example\n",
    "    )\n",
    "    \n",
    "    return dataset\n",
    "\n",
    "def input_fn(filename, batch_size):\n",
    "    ds = get_dataset_small(filename)\n",
    "    ds = ds.shuffle(10000)\n",
    "    ds = ds.batch(batch_size)\n",
    "    ds = ds.repeat()\n",
    "    #ds = ds.prefetch(tf.data.AUTOTUNE)\n",
    "    return ds"
   ]
  },
  {
   "cell_type": "markdown",
   "id": "18c33be2",
   "metadata": {},
   "source": [
    "### Setup a simple test model "
   ]
  },
  {
   "cell_type": "code",
   "execution_count": null,
   "id": "b749a307",
   "metadata": {},
   "outputs": [],
   "source": [
    "inp = Input(shape=(129*128, ))\n",
    "x = Dense(100)(inp)\n",
    "out = Dense(129*128)(x)\n",
    "\n",
    "model = Model(inputs=[inp], outputs=[out])\n",
    "model.compile(optimizer=\"adam\", loss=\"mse\", metrics=[\"accuracy\"])"
   ]
  },
  {
   "cell_type": "code",
   "execution_count": null,
   "id": "5b6d0429",
   "metadata": {},
   "outputs": [],
   "source": [
    "# Set batch size\n",
    "batch_size = 10\n",
    "\n",
    "ds_train      = prepare_dataset_for_training(fout[\"train\"][-1], batch_size)\n",
    "#input_fn(fout[\"train\"][-1], batch_size=batch_size)\n",
    "ds_validation = prepare_dataset_for_training(fout[\"validation\"][-1], batch_size)\n",
    "#input_fn(fout[\"validation\"][-1], batch_size=batch_size)"
   ]
  },
  {
   "cell_type": "code",
   "execution_count": null,
   "id": "4184cc6b",
   "metadata": {},
   "outputs": [],
   "source": [
    "model.fit(\n",
    "    ds_train,\n",
    "    steps_per_epoch=1056//batch_size,\n",
    "    validation_data=ds_validation,\n",
    "    validation_steps=227//batch_size,\n",
    "    epochs=20\n",
    ")"
   ]
  },
  {
   "cell_type": "code",
   "execution_count": null,
   "id": "f64d5149",
   "metadata": {},
   "outputs": [],
   "source": [
    "import numpy as np\n",
    "iterator = iter(ds_train)\n",
    "tf_mg, tf_sg = iterator.get_next()\n",
    "mg, sg = tf_mg.numpy(), tf_sg.numpy()\n",
    "\n",
    "mg_0 = np.reshape(mg[0, :], newshape=(129, 128))\n",
    "sg_0 = np.reshape(sg[0, :], newshape=(129, 128))\n",
    "#mg_1 = np.reshape(mg[-1, :], newshape=(129, 128))\n",
    "#sg_1 = np.reshape(sg[-1, :], newshape=(129, 128))"
   ]
  },
  {
   "cell_type": "code",
   "execution_count": null,
   "id": "e123b23e",
   "metadata": {},
   "outputs": [],
   "source": [
    "fig, axs = plt.subplots(2, 2, figsize=(10, 10))\n",
    "axs[0, 0].set_xticks([])\n",
    "axs[0, 0].set_yticks([])\n",
    "axs[0, 0].set_xlabel(\"(a) Input Motiongram\")\n",
    "axs[0, 0].imshow(mg_0, aspect=\"auto\", cmap=\"Spectral_r\", interpolation=\"bicubic\")\n",
    "\n",
    "#axs[0, 1].set_xticks([])\n",
    "#axs[0, 1].set_yticks([])\n",
    "#axs[0, 1].set_xlabel(\"(a) Input Motiongram\")\n",
    "#axs[0, 1].imshow(mg_1, aspect=\"auto\", cmap=\"Spectral_r\", interpolation=\"bicubic\")\n",
    "\n",
    "axs[1, 0].set_xticks([])\n",
    "axs[1, 0].set_yticks([])\n",
    "axs[1, 0].set_xlabel(\"(a) Input Motiongram\")\n",
    "axs[1, 0].imshow(np.flipud(sg_0), aspect=\"auto\", cmap=\"Spectral_r\", interpolation=\"bicubic\")\n",
    "\n",
    "#axs[1, 1].set_xticks([])\n",
    "#axs[1, 1].set_yticks([])\n",
    "#axs[1, 1].set_xlabel(\"(a) Input Motiongram\")\n",
    "#axs[1, 1].imshow(np.flipud(sg_1), aspect=\"auto\", cmap=\"Spectral_r\", interpolation=\"bicubic\")\n",
    "\n",
    "plt.show()"
   ]
  },
  {
   "cell_type": "code",
   "execution_count": null,
   "id": "7cf74071",
   "metadata": {},
   "outputs": [],
   "source": []
  }
 ],
 "metadata": {
  "kernelspec": {
   "display_name": "Python 3 (ipykernel)",
   "language": "python",
   "name": "python3"
  },
  "language_info": {
   "codemirror_mode": {
    "name": "ipython",
    "version": 3
   },
   "file_extension": ".py",
   "mimetype": "text/x-python",
   "name": "python",
   "nbconvert_exporter": "python",
   "pygments_lexer": "ipython3",
   "version": "3.7.11"
  }
 },
 "nbformat": 4,
 "nbformat_minor": 5
}
